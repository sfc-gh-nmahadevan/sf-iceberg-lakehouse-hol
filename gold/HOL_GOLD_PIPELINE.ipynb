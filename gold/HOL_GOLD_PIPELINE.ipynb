{
 "cells": [
  {
   "cell_type": "markdown",
   "id": "ed60df4f-cc51-4d7a-90cd-aaf848e7416a",
   "metadata": {
    "collapsed": false,
    "name": "cell11"
   },
   "source": [
    "# Overview\n",
    "\n",
    "This notebook guides you through the setup and execution of the GOLD layer in your data pipeline using Snowflake and Iceberg tables. The GOLD layer focuses on curating aggregated and analytics-ready tables by leveraging the curated data from the SILVER and BRONZE layers.\n",
    "\n",
    "You will:\n",
    "- Import required Python packages and establish a Snowflake session.\n",
    "- Set up user-specific variables, roles, databases, and schemas for the GOLD layer.\n",
    "- Create dynamic Iceberg tables for key business entities and aggregations.\n",
    "- Join and enrich data from the SILVER and BRONZE layers to produce final reporting tables.\n",
    "- Create summary views for analytics and dashboarding.\n",
    "\n",
    "Follow the instructions and code cells to complete the GOLD pipeline and prepare your data for business intelligence and advanced analytics."
   ]
  },
  {
   "cell_type": "code",
   "execution_count": null,
   "id": "3775908f-ca36-4846-8f38-5adca39217f2",
   "metadata": {
    "language": "python",
    "name": "cell1"
   },
   "outputs": [],
   "source": [
    "# Import python packages\n",
    "import streamlit as st\n",
    "import pandas as pd\n",
    "\n",
    "# We can also use Snowpark for our analyses!\n",
    "from snowflake.snowpark.context import get_active_session\n",
    "session = get_active_session()\n"
   ]
  },
  {
   "cell_type": "markdown",
   "id": "e5221c51-7199-4553-8b91-53178e7844d7",
   "metadata": {
    "collapsed": false,
    "name": "cell12"
   },
   "source": [
    "# Set User Number\n",
    "\n",
    "Update the cell below with your unique user number for this lab. This ensures that all resources you create are isolated and do not conflict with those of other users.\n",
    "\n",
    "**Usernum = '999'**"
   ]
  },
  {
   "cell_type": "code",
   "execution_count": null,
   "id": "8d50cbf4-0c8d-4950-86cb-114990437ac9",
   "metadata": {
    "language": "python",
    "name": "cell2"
   },
   "outputs": [],
   "source": [
    "usernum = '<INSERT USER NUMBER>'"
   ]
  },
  {
   "cell_type": "markdown",
   "id": "21bcfd39-612b-4741-b6cb-c15c22937cd0",
   "metadata": {
    "collapsed": false,
    "name": "cell13"
   },
   "source": [
    "# Set User-Specific Variables\n",
    "\n",
    "This section defines variables for your username, role, database, and schema. These variables will be used throughout the notebook to ensure all operations are performed in your dedicated environment."
   ]
  },
  {
   "cell_type": "code",
   "execution_count": null,
   "id": "c695373e-ac74-4b62-a1f1-08206cbd5c81",
   "metadata": {
    "language": "sql",
    "name": "cell3"
   },
   "outputs": [],
   "source": [
    "\n",
    "\n",
    "SET USERNAME = 'HOL_USER_' || {{usernum}};\n",
    "SELECT $USERNAME;\n"
   ]
  },
  {
   "cell_type": "code",
   "execution_count": null,
   "id": "e4a8f716-da11-41c5-ad47-afd0e1d65ba2",
   "metadata": {
    "language": "sql",
    "name": "cell4"
   },
   "outputs": [],
   "source": [
    "SET HOLROLE = $USERNAME || '_FULL_ROLE';\n",
    "SET DB_NAME = $USERNAME || '_DB';\n",
    "SET SCHEMANAME = 'GOLD';"
   ]
  },
  {
   "cell_type": "code",
   "execution_count": null,
   "id": "55825442-d156-4c62-9a5f-554534fe29e1",
   "metadata": {
    "language": "sql",
    "name": "cell5"
   },
   "outputs": [],
   "source": [
    "USE ROLE IDENTIFIER($HOLROLE);\n",
    "USE DATABASE IDENTIFIER($DB_NAME);\n",
    "USE SCHEMA IDENTIFIER($SCHEMANAME);"
   ]
  },
  {
   "cell_type": "markdown",
   "id": "274cd97b",
   "metadata": {},
   "source": [
    "# Creating the SCHEDULE Table\n",
    "\n",
    "This step creates a dynamic Iceberg table named `SCHEDULE` in the GOLD schema. The table is populated by selecting the latest schedule record for each unique schedule key from the SILVER layer, ensuring only the most relevant schedule information is retained for analytics."
   ]
  },
  {
   "cell_type": "code",
   "execution_count": null,
   "id": "215ce60d-d26d-4e98-bdfc-5fc0c7b34c71",
   "metadata": {
    "language": "sql",
    "name": "cell6"
   },
   "outputs": [],
   "source": [
    "CREATE OR REPLACE DYNAMIC ICEBERG TABLE SCHEDULE\n",
    "  TARGET_LAG = '1 minute'\n",
    "  WAREHOUSE = hol_user_{{usernum}}_wh\n",
    "  EXTERNAL_VOLUME= 'iceberg_hol_gold_vol'\n",
    "  CATALOG = 'SNOWFLAKE'\n",
    "  BASE_LOCATION = 'hol_user_{{usernum}}/schedule/'\n",
    "  CATALOG_SYNC = iceberg_hol_oc_int\n",
    "  AS\n",
    "select  *  \n",
    "from silver.schedule_00\n",
    "qualify  row_number() over (partition by schedule_key order by ORIGIN_LAT_LON) = 1;"
   ]
  },
  {
   "cell_type": "markdown",
   "id": "9a5f15bd",
   "metadata": {},
   "source": [
    "# Creating the TRAIN_ACTIVATIONS Table\n",
    "\n",
    "This cell creates a dynamic Iceberg table named `TRAIN_ACTIVATIONS` by selecting the most recent activation event for each train from the SILVER layer. This ensures that only the latest activation record per train is available for downstream analytics."
   ]
  },
  {
   "cell_type": "code",
   "execution_count": null,
   "id": "c6fa186a-7560-4686-b843-71777ff93824",
   "metadata": {
    "language": "sql",
    "name": "cell7"
   },
   "outputs": [],
   "source": [
    "CREATE OR REPLACE DYNAMIC ICEBERG TABLE TRAIN_ACTIVATIONS\n",
    "  TARGET_LAG = '1 minute'\n",
    "  WAREHOUSE = hol_user_{{usernum}}_wh\n",
    "  EXTERNAL_VOLUME= 'iceberg_hol_gold_vol'\n",
    "  CATALOG = 'SNOWFLAKE'\n",
    "  BASE_LOCATION = 'hol_user_{{usernum}}/train_activations/'\n",
    "  CATALOG_SYNC = iceberg_hol_oc_int\n",
    "AS\n",
    "select * from silver.train_activations_01\n",
    "qualify ROW_NUMBER() OVER (PARTITION BY TRAIN_ID ORDER BY CREATION_TIMESTAMP DESC) = 1;"
   ]
  },
  {
   "cell_type": "markdown",
   "id": "13cc6d0a",
   "metadata": {},
   "source": [
    "# Creating the TRAIN_MOVEMENTS Table\n",
    "\n",
    "This step creates a dynamic Iceberg table named `TRAIN_MOVEMENTS` by joining movement events from the SILVER layer with activation, schedule, and location data. The resulting table provides a comprehensive, enriched view of each train movement, including schedule, route, and geospatial information."
   ]
  },
  {
   "cell_type": "code",
   "execution_count": null,
   "id": "8528973e-78b0-4c4d-9665-1662819eb0cd",
   "metadata": {
    "language": "sql",
    "name": "cell8"
   },
   "outputs": [],
   "source": [
    "CREATE OR REPLACE DYNAMIC ICEBERG TABLE TRAIN_MOVEMENTS\n",
    "  TARGET_LAG = '1 minute'\n",
    "  WAREHOUSE = hol_user_{{usernum}}_wh\n",
    "  EXTERNAL_VOLUME= 'iceberg_hol_gold_vol'\n",
    "  CATALOG = 'SNOWFLAKE'\n",
    "  BASE_LOCATION = 'hol_user_{{usernum}}/train_movements/'\n",
    "  CATALOG_SYNC = iceberg_hol_oc_int\n",
    "AS\n",
    "SELECT  TM.MSG_KEY AS MSG_KEY,\n",
    "        TM.MSG_HEADER AS MSG_HEADER,\n",
    "        TM.EVENT_TYPE AS EVENT_TYPE,\n",
    "        TM.GBTT_TIMESTAMP AS GBTT_TIMESTAMP,\n",
    "        TM.ORIGINAL_LOC_STANOX AS ORIGINAL_LOC_STANOX,\n",
    "        TM.PLANNED_TIMESTAMP AS PLANNED_TIMESTAMP,\n",
    "        TM.TIMETABLE_VARIATION AS TIMETABLE_VARIATION,\n",
    "        TM.ORIGINAL_LOC_TIMESTAMP AS ORIGINAL_LOC_TIMESTAMP,\n",
    "        TM.CURRENT_TRAIN_ID AS CURRENT_TRAIN_ID,\n",
    "        TM.DELAY_MONITORING_POINT AS DELAY_MONITORING_POINT,\n",
    "        TM.NEXT_REPORT_RUN_TIME AS NEXT_REPORT_RUN_TIME,\n",
    "        TM.REPORTING_STANOX AS REPORTING_STANOX,\n",
    "        TM.ACTUAL_TIMESTAMP AS ACTUAL_TIMESTAMP,\n",
    "        TM.CORRECTION_IND AS CORRECTION_IND,\n",
    "        TM.EVENT_SOURCE AS EVENT_SOURCE,\n",
    "        TM.TRAIN_FILE_ADDRESS AS TRAIN_FILE_ADDRESS,\n",
    "        TM.PLATFORM AS PLATFORM,\n",
    "        TM.DIVISION_CODE AS DIVISION_CODE,\n",
    "        TM.TRAIN_TERMINATED AS TRAIN_TERMINATED,\n",
    "        TM.TRAIN_ID AS TRAIN_ID,\n",
    "        TM.OFFROUTE_IND AS OFFROUTE_IND,\n",
    "        TM.VARIATION AS VARIATION,\n",
    "        TM.LATE_IND AS LATE_IND,\n",
    "        TM.VARIATION_STATUS AS VARIATION_STATUS,\n",
    "        TM.TRAIN_SERVICE_CODE AS TRAIN_SERVICE_CODE,\n",
    "        TM.TOC_ID AS TOC_ID,\n",
    "        TM.TOC AS TOC,\n",
    "        TM.LOC_STANOX AS LOC_STANOX,\n",
    "        L.DESCRIPTION AS MVT_DESCRIPTION,\n",
    "        object_construct_keep_null('long',L.LONGITUDE, 'lat',L.LATITUDE)::OBJECT(long float, lat float) AS MVT_LAT_LON,\n",
    "        TM.AUTO_EXPECTED AS AUTO_EXPECTED,\n",
    "        TM.DIRECTION_IND AS DIRECTION_IND,\n",
    "        TM.ROUTE AS ROUTE,\n",
    "        TM.PLANNED_EVENT_TYPE AS PLANNED_EVENT_TYPE,\n",
    "        TM.NEXT_REPORT_STANOX AS NEXT_REPORT_STANOX,\n",
    "        TM.LINE_IND AS LINE_IND,\n",
    "        TA.SCHEDULE_SOURCE AS SCHEDULE_SOURCE,\n",
    "        TA.TP_ORIGIN_TIMESTAMP AS TP_ORIGIN_TIMESTAMP,\n",
    "        TA.SCHEDULE_TYPE AS SCHEDULE_TYPE,\n",
    "        TA.CREATION_TIMESTAMP AS CREATION_TIMESTAMP,\n",
    "        TA.ORIGIN_DEP_TIMESTAMP AS ORIGIN_DEP_TIMESTAMP,\n",
    "        TA.D1266_RECORD_NUMBER AS D1266_RECORD_NUMBER,\n",
    "        TA.TRAIN_SERVICE_CODE AS TRAIN_SERVICE_CODE_02,\n",
    "        TA.SCHED_ORIGIN_STANOX AS SCHED_ORIGIN_STANOX,\n",
    "        TA.TRAIN_UID AS TRAIN_UID,\n",
    "        TA.TRAIN_CALL_MODE AS TRAIN_CALL_MODE,\n",
    "        TA.TP_ORIGIN_STANOX AS TP_ORIGIN_STANOX,\n",
    "        TA.SCHEDULE_WTT_ID AS SCHEDULE_WTT_ID,\n",
    "        TA.TRAIN_CALL_TYPE AS TRAIN_CALL_TYPE,\n",
    "        TA.SCHEDULE_END_DATE AS SCHEDULE_END_DATE,\n",
    "        COALESCE(TA.SCHEDULE_KEY,'no_schedule_activation_found') AS SCHEDULE_KEY,\n",
    "        TA.SCHED_ORIGIN_DESC AS SCHED_ORIGIN_DESC,\n",
    "        SCH.CIF_TRAIN_UID AS CIF_TRAIN_UID,\n",
    "        SCH.NUM_STOPS AS SCHEDULE_NUM_STOPS,\n",
    "        SCH.SCHEDULE_START_DATE AS SCHEDULE_START_DATE,\n",
    "        SCH.CIF_STP_INDICATOR AS CIF_STP_INDICATOR,\n",
    "        SCH.ATOC_CODE AS ATOC_CODE,\n",
    "        SCH.TRAIN_STATUS AS TRAIN_STATUS,\n",
    "        SCH.POWER_TYPE AS POWER_TYPE,\n",
    "        SCH.SEATING_CLASSES AS SEATING_CLASSES,\n",
    "        SCH.RESERVATIONS AS RESERVATIONS,\n",
    "        SCH.SLEEPING_ACCOMODATION AS SLEEPING_ACCOMODATION,\n",
    "        SCH.TRAIN_CATEGORY AS TRAIN_CATEGORY,\n",
    "        SCH.ORIGIN_TIPLOC_CODE AS ORIGIN_TIPLOC_CODE,\n",
    "          SCH.ORIGIN_DESCRIPTION                                    AS ORIGIN_DESCRIPTION,\n",
    "          SCH.ORIGIN_LAT_LON                                    AS ORIGIN_LAT_LON,\n",
    "        SCH.ORIGIN_PUBLIC_DEPARTURE_TIME AS ORIGIN_PUBLIC_DEPARTURE_TIME,\n",
    "        SCH.ORIGIN_PLATFORM AS ORIGIN_PLATFORM,\n",
    "        SCH.DESTINATION_TIPLOC_CODE AS DESTINATION_TIPLOC_CODE,\n",
    "          SCH.DESTINATION_DESCRIPTION                               AS DESTINATION_DESCRIPTION,\n",
    "          SCH.DESTINATION_LAT_LON                               AS DESTINATION_LAT_LON,\n",
    "        SCH.DESTINATION_PUBLIC_ARRIVAL_TIME AS DESTINATION_PUBLIC_ARRIVAL_TIME,\n",
    "        SCH.DESTINATION_PLATFORM AS DESTINATION_PLATFORM  \n",
    "  FROM SILVER.TRAIN_MOVEMENTS_00 TM\n",
    "      LEFT JOIN TRAIN_ACTIVATIONS TA\n",
    "        ON TM.TRAIN_ID = TA.TRAIN_ID\n",
    "      LEFT JOIN BRONZE.LOCATIONS_RAW L\n",
    "         ON TM.loc_stanox = L.STANOX\n",
    "      LEFT JOIN \n",
    "        SCHEDULE SCH \n",
    "        ON COALESCE(TA.SCHEDULE_KEY,'no_schedule_activation_found') = SCH.SCHEDULE_KEY;"
   ]
  },
  {
   "cell_type": "markdown",
   "id": "380d37eb",
   "metadata": {},
   "source": [
    "# Creating the TRAIN_CANCELLATIONS Table\n",
    "\n",
    "This cell creates a dynamic Iceberg table named `TRAIN_CANCELLATIONS` by joining cancellation events from the SILVER layer with activation, schedule, and location reference data. The resulting table provides enriched cancellation event details for analytics and reporting."
   ]
  },
  {
   "cell_type": "code",
   "execution_count": null,
   "id": "bcd2e156-e90a-4e19-afd0-b4bfd4c5006a",
   "metadata": {
    "language": "sql",
    "name": "cell9"
   },
   "outputs": [],
   "source": [
    "CREATE OR REPLACE DYNAMIC ICEBERG TABLE TRAIN_CANCELLATIONS\n",
    "  TARGET_LAG = '1 minute'\n",
    "  WAREHOUSE = hol_user_{{usernum}}_wh\n",
    "  EXTERNAL_VOLUME= 'iceberg_hol_gold_vol'\n",
    "  CATALOG = 'SNOWFLAKE'\n",
    "  BASE_LOCATION = 'hol_user_{{usernum}}/train_cancellations_01/'\n",
    "  CATALOG_SYNC = iceberg_hol_oc_int\n",
    "AS\n",
    "SELECT    TC.MSG_HEADER AS MSG_HEADER, \n",
    "          TC.TRAIN_FILE_ADDRESS AS TRAIN_FILE_ADDRESS, \n",
    "          TC.TRAIN_SERVICE_CODE AS TRAIN_SERVICE_CODE, \n",
    "          TC.ORIG_LOC_STANOX AS ORIG_LOC_STANOX, \n",
    "          TC.TOC_ID AS TOC_ID, \n",
    "          TC.TOC AS TOC, \n",
    "          TC.DEP_TIMESTAMP AS DEP_TIMESTAMP, \n",
    "          TC.DIVISION_CODE AS DIVISION_CODE, \n",
    "          TC.LOC_STANOX AS LOC_STANOX, \n",
    "          TC.CANX_TIMESTAMP AS CANX_TIMESTAMP, \n",
    "          TC.CANX_REASON_CODE AS CANX_REASON_CODE, \n",
    "          C.CODE                                                 AS CANX_REASON, \n",
    "          L.DESCRIPTION                                             AS CANCELLATION_LOCATION, \n",
    "          object_construct_keep_null('long',L.LONGITUDE,'lat',L.LATITUDE)::OBJECT(long FLOAT, lat FLOAT)                    AS CANCELLATION_LAT_LON, \n",
    "          TC.TRAIN_ID AS TRAIN_ID, \n",
    "          TC.ORIG_LOC_TIMESTAMP AS ORIG_LOC_TIMESTAMP, \n",
    "          TC.CANX_TYPE AS CANX_TYPE,\n",
    "          TA.SCHEDULE_SOURCE                                            AS SCHEDULE_SOURCE, \n",
    "          TA.TP_ORIGIN_TIMESTAMP                                        AS TP_ORIGIN_TIMESTAMP, \n",
    "          TA.SCHEDULE_TYPE                                              AS SCHEDULE_TYPE, \n",
    "          TA.CREATION_TIMESTAMP                                         AS CREATION_TIMESTAMP, \n",
    "          TA.ORIGIN_DEP_TIMESTAMP                                       AS ORIGIN_DEP_TIMESTAMP, \n",
    "          TA.D1266_RECORD_NUMBER                                        AS D1266_RECORD_NUMBER, \n",
    "          TA.TRAIN_SERVICE_CODE                                         AS TRAIN_SERVICE_CODE_02, \n",
    "          TA.SCHED_ORIGIN_STANOX                                        AS SCHED_ORIGIN_STANOX, \n",
    "          TA.TRAIN_UID                                                  AS TRAIN_UID, \n",
    "          TA.TRAIN_CALL_MODE                                            AS TRAIN_CALL_MODE, \n",
    "          TA.TP_ORIGIN_STANOX                                           AS TP_ORIGIN_STANOX, \n",
    "          TA.SCHEDULE_WTT_ID                                            AS SCHEDULE_WTT_ID, \n",
    "          TA.TRAIN_CALL_TYPE                                            AS TRAIN_CALL_TYPE, \n",
    "          TA.SCHEDULE_END_DATE                                          AS SCHEDULE_END_DATE, \n",
    "          COALESCE(TA.SCHEDULE_KEY,'no_schedule_found')                 AS SCHEDULE_KEY, \n",
    "          TA.SCHED_ORIGIN_DESC                                          AS SCHED_ORIGIN_DESC,\n",
    "          SCH.CIF_TRAIN_UID                                             AS CIF_TRAIN_UID, \n",
    "          SCH.SCHEDULE_START_DATE                                       AS SCHEDULE_START_DATE, \n",
    "          SCH.CIF_STP_INDICATOR                                         AS CIF_STP_INDICATOR, \n",
    "          SCH.ATOC_CODE                                                 AS ATOC_CODE, \n",
    "          SCH.TRAIN_STATUS                                              AS TRAIN_STATUS, \n",
    "          SCH.POWER_TYPE                                                AS POWER_TYPE, \n",
    "          SCH.SEATING_CLASSES                                           AS SEATING_CLASSES, \n",
    "          SCH.RESERVATIONS                                              AS RESERVATIONS, \n",
    "          SCH.SLEEPING_ACCOMODATION                                     AS SLEEPING_ACCOMODATION, \n",
    "          SCH.TRAIN_CATEGORY                                            AS TRAIN_CATEGORY, \n",
    "          SCH.ORIGIN_TIPLOC_CODE                                        AS ORIGIN_TIPLOC_CODE, \n",
    "          SCH.ORIGIN_DESCRIPTION                                    AS ORIGIN_DESCRIPTION,\n",
    "          SCH.ORIGIN_LAT_LON                                    AS ORIGIN_LAT_LON,\n",
    "          SCH.ORIGIN_PUBLIC_DEPARTURE_TIME                              AS ORIGIN_PUBLIC_DEPARTURE_TIME,\n",
    "          SCH.ORIGIN_PLATFORM                                           AS ORIGIN_PLATFORM, \n",
    "          SCH.DESTINATION_TIPLOC_CODE                                   AS DESTINATION_TIPLOC_CODE,\n",
    "          SCH.DESTINATION_DESCRIPTION                               AS DESTINATION_DESCRIPTION,\n",
    "          SCH.DESTINATION_LAT_LON                               AS DESTINATION_LAT_LON,\n",
    "          SCH.DESTINATION_PUBLIC_ARRIVAL_TIME                           AS DESTINATION_PUBLIC_ARRIVAL_TIME,\n",
    "          SCH.DESTINATION_PLATFORM                                      AS DESTINATION_PLATFORM\n",
    "    FROM SILVER.TRAIN_CANCELLATIONS_00 TC\n",
    "          LEFT JOIN BRONZE.LOCATIONS_RAW L \n",
    "                    ON        TC.LOC_STANOX = L.STANOX \n",
    "          LEFT JOIN SILVER.CANCEL_CODE_REFERENCES_00 C \n",
    "                    ON        TC.CANX_REASON_CODE = C.CODE\n",
    "          LEFT JOIN TRAIN_ACTIVATIONS TA \n",
    "                    ON        TC.TRAIN_ID = TA.TRAIN_ID\n",
    "          LEFT JOIN SCHEDULE SCH \n",
    "                    ON        COALESCE(TA.schedule_key,'X') = SCH.SCHEDULE_KEY ;"
   ]
  },
  {
   "cell_type": "markdown",
   "id": "2ed19c17",
   "metadata": {},
   "source": [
    "# Creating the TOC_MVT_STATS View\n",
    "\n",
    "This step creates a summary view named `TOC_MVT_STATS` that aggregates movement statistics by Train Operating Company (TOC). The view provides counts of movements, unique trains, and time ranges, supporting dashboarding and business intelligence use cases."
   ]
  },
  {
   "cell_type": "code",
   "execution_count": null,
   "id": "ca3032e3-8653-46b6-b9f3-c34fde831ee8",
   "metadata": {
    "language": "sql",
    "name": "cell10"
   },
   "outputs": [],
   "source": [
    "CREATE VIEW IF NOT EXISTS TOC_MVT_STATS AS\n",
    "SELECT TOC,\n",
    "  sum( case when SCHEDULE_KEY = 'no_schedule_activation_found' then 1 else 0 end ) as no_activation_found,\n",
    "  sum( case when SCHEDULE_KEY = 'no_schedule_activation_found' then 0 else 1 end ) as activation_found,\n",
    "  COUNT(*) as MOVEMENT_CT,\n",
    "  COUNT(DISTINCT(train_id)) as unique_trains,\n",
    "  TO_CHAR(\n",
    "  CONVERT_TIMEZONE('UTC', 'Europe/London', TO_TIMESTAMP(min(ACTUAL_TIMESTAMP)/1000)),\n",
    "  'yyyy-MM-dd HH:mm:ss'\n",
    " ) first_ts,\n",
    " TO_CHAR(\n",
    "  CONVERT_TIMEZONE('UTC', 'Europe/London', TO_TIMESTAMP(max(ACTUAL_TIMESTAMP)/1000)),\n",
    "  'yyyy-MM-dd HH:mm:ss'\n",
    " ) last_ts\n",
    "FROM TRAIN_MOVEMENTS\n",
    "GROUP BY TOC;"
   ]
  }
 ],
 "metadata": {
  "kernelspec": {
   "display_name": "Streamlit Notebook",
   "name": "streamlit"
  },
  "lastEditStatus": {
   "authorEmail": "",
   "authorId": "7698903671161",
   "authorName": "HOL_USER_999",
   "lastEditTime": 1748579160893,
   "notebookId": "wzfwq7zzqus4phnzdqen",
   "sessionId": "b1b048a4-a48e-4301-95d7-dfe4fcd8cc60"
  }
 },
 "nbformat": 4,
 "nbformat_minor": 5
}
